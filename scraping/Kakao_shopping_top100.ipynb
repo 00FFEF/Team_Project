{
 "cells": [
  {
   "cell_type": "code",
   "execution_count": 1,
   "id": "958d042d",
   "metadata": {},
   "outputs": [],
   "source": [
    "from selenium import webdriver"
   ]
  },
  {
   "cell_type": "code",
   "execution_count": 2,
   "id": "c40ff9c9",
   "metadata": {},
   "outputs": [
    {
     "name": "stdout",
     "output_type": "stream",
     "text": [
      " C 드라이브의 볼륨에는 이름이 없습니다.\n",
      " 볼륨 일련 번호: 7651-27D3\n",
      "\n",
      " C:\\Develops\\Team_Project\\scraping 디렉터리\n",
      "\n",
      "2021-07-19  오후 02:14        11,107,328 chromedriver.exe\n",
      "               1개 파일          11,107,328 바이트\n",
      "               0개 디렉터리  372,136,460,288 바이트 남음\n"
     ]
    }
   ],
   "source": [
    "!dir .\\chromedriver.exe"
   ]
  },
  {
   "cell_type": "code",
   "execution_count": 3,
   "id": "d6ea0854",
   "metadata": {},
   "outputs": [],
   "source": [
    "browser = webdriver.Chrome('./chromedriver.exe')"
   ]
  },
  {
   "cell_type": "code",
   "execution_count": 4,
   "id": "d34c749e",
   "metadata": {},
   "outputs": [],
   "source": [
    "browser.get('https://store.kakao.com/home/best')"
   ]
  },
  {
   "cell_type": "code",
   "execution_count": 5,
   "id": "c16aa25f",
   "metadata": {},
   "outputs": [],
   "source": [
    "html = browser.page_source"
   ]
  },
  {
   "cell_type": "code",
   "execution_count": 6,
   "id": "0d847024",
   "metadata": {},
   "outputs": [],
   "source": [
    "from bs4 import BeautifulSoup"
   ]
  },
  {
   "cell_type": "code",
   "execution_count": 7,
   "id": "dfd4483a",
   "metadata": {},
   "outputs": [],
   "source": [
    "soup = BeautifulSoup(html,'html.parser')"
   ]
  },
  {
   "cell_type": "code",
   "execution_count": 8,
   "id": "30a06d38",
   "metadata": {},
   "outputs": [],
   "source": [
    "contents = soup.select('li.item-container')\n",
    "# print(type(contents))\n",
    "# contents[0]"
   ]
  },
  {
   "cell_type": "code",
   "execution_count": 9,
   "id": "0ec3a643",
   "metadata": {},
   "outputs": [],
   "source": [
    "content = contents[0]\n",
    "# content"
   ]
  },
  {
   "cell_type": "code",
   "execution_count": 10,
   "id": "ec653054",
   "metadata": {},
   "outputs": [
    {
     "data": {
      "text/plain": [
       "<em class=\"rank_info rank_top ng-star-inserted\">1</em>"
      ]
     },
     "execution_count": 10,
     "metadata": {},
     "output_type": "execute_result"
    }
   ],
   "source": [
    "rank = content.select('div > em.rank_info')[0]\n",
    "rank"
   ]
  },
  {
   "cell_type": "code",
   "execution_count": 11,
   "id": "5b758ad1",
   "metadata": {},
   "outputs": [
    {
     "data": {
      "text/plain": [
       "<span class=\"product_name\"> [단독특가]36년전통장충동왕족발 편육200g+찰순대500g 외 2종(고기듬뿍 고기순대)</span>"
      ]
     },
     "execution_count": 11,
     "metadata": {},
     "output_type": "execute_result"
    }
   ],
   "source": [
    "title = content.select('span.product_name')[0]\n",
    "title"
   ]
  },
  {
   "cell_type": "code",
   "execution_count": 12,
   "id": "bc8f7214",
   "metadata": {},
   "outputs": [
    {
     "name": "stdout",
     "output_type": "stream",
     "text": [
      "1 [단독특가]36년전통장충동왕족발 편육200g+찰순대500g 외 2종(고기듬뿍 고기순대)\n",
      "2 BBQ자메이카 통다리 170gx10팩+닭 가슴살 소세지 2팩 랜덤 증정\n",
      "3 [압도적 가격]국내생산 생리대의 자존심 보람C&H 순면이좋은날 3팩, 소프트앤퀵 4팩 구성\n",
      "4 강경 서해젓갈 선동 저염 무색 명란젓 파지 1kg 외10가지 젓갈모음 200년 전통 맛젓갈\n",
      "5 콜라겐 링클 아이크림40mlx4 (총4개)/주름개선 기능성\n",
      "6 Dole 얼려먹는 주스 후룻팝 3박스 24개입 (오렌지, 피치, 파인애플 등) + 사은품\n",
      "7 [헬로네이처 특가] 고기와 우거지 듬뿍! 얼큰 칼칼! 고래감자탕 2팩(2.2kg) 무료배송\n",
      "8 이롬황성주 국산콩두유 190ml*24팩 선물세트 3종(고칼슘/검은콩/검은콩과17곡)외 4종\n",
      "9 1+1 NEW K2 Safety 2X밴더 쿨토시+블루안트 2X밴더 손목형 쿨토시 외 17종\n",
      "10 불리지 않고 바로 먹는 납작당면 5팩 / 감자면 넓적당면 훠궈면 떡볶이 찜닭 추가사리\n",
      "11 국산재료, 국내생산! 시원한 여름마스크 KF-AD / 컬러마스크 각 50매 7종\n",
      "12 [생활공작소] 뽑아쓰는 키친타올 & 팝업티슈\n",
      "13 [무배] 스파클생수 2L 24병 / 500ml 60병\n",
      "14 해남 땅끝햇살 수 10kg (2020년 수확, 등급-상)\n",
      "15 까사니 프리미엄 조리도구 모음전 키친툴/양면도마/가위 외\n",
      "16 벡셀알카라인 벌크형 건전지 AA AAA 20알\n",
      "17 [LIVE] 래핑카우 벨큐브 144큐브 (플레인48큐브+체다48큐브+신규맛48큐브증정)\n",
      "18 100% 국산 더 건강한 잡곡 모음전\n",
      "19 [조여정콜라겐]초저분자 라이필 콜라겐(1병+2주파우치2개 총 8주분)\n",
      "20 천하일미 홍석천 이원일 떡갈비 4팩~20팩 총8장~40장 전통/매콤 혼합구성\n"
     ]
    }
   ],
   "source": [
    "shop = [] # or list()\n",
    "for content in contents:\n",
    "    rank = content.select('div > em.rank_info')[0]\n",
    "    title = content.select('span.product_name')[0]\n",
    "    print(rank.text.strip(),title.text.strip())\n",
    "    shop.append([rank.text.strip(),title.text.strip()])"
   ]
  },
  {
   "cell_type": "code",
   "execution_count": 13,
   "id": "1b26b530",
   "metadata": {},
   "outputs": [],
   "source": [
    "import pandas as pd"
   ]
  },
  {
   "cell_type": "code",
   "execution_count": 14,
   "id": "3640230a",
   "metadata": {},
   "outputs": [
    {
     "data": {
      "text/html": [
       "<div>\n",
       "<style scoped>\n",
       "    .dataframe tbody tr th:only-of-type {\n",
       "        vertical-align: middle;\n",
       "    }\n",
       "\n",
       "    .dataframe tbody tr th {\n",
       "        vertical-align: top;\n",
       "    }\n",
       "\n",
       "    .dataframe thead th {\n",
       "        text-align: right;\n",
       "    }\n",
       "</style>\n",
       "<table border=\"1\" class=\"dataframe\">\n",
       "  <thead>\n",
       "    <tr style=\"text-align: right;\">\n",
       "      <th></th>\n",
       "      <th>Rank</th>\n",
       "      <th>KaKao shopping</th>\n",
       "    </tr>\n",
       "  </thead>\n",
       "  <tbody>\n",
       "    <tr>\n",
       "      <th>0</th>\n",
       "      <td>1</td>\n",
       "      <td>[단독특가]36년전통장충동왕족발 편육200g+찰순대500g 외 2종(고기듬뿍 고기순대)</td>\n",
       "    </tr>\n",
       "    <tr>\n",
       "      <th>1</th>\n",
       "      <td>2</td>\n",
       "      <td>BBQ자메이카 통다리 170gx10팩+닭 가슴살 소세지 2팩 랜덤 증정</td>\n",
       "    </tr>\n",
       "    <tr>\n",
       "      <th>2</th>\n",
       "      <td>3</td>\n",
       "      <td>[압도적 가격]국내생산 생리대의 자존심 보람C&amp;H 순면이좋은날 3팩, 소프트앤퀵 4...</td>\n",
       "    </tr>\n",
       "    <tr>\n",
       "      <th>3</th>\n",
       "      <td>4</td>\n",
       "      <td>강경 서해젓갈 선동 저염 무색 명란젓 파지 1kg 외10가지 젓갈모음 200년 전통...</td>\n",
       "    </tr>\n",
       "    <tr>\n",
       "      <th>4</th>\n",
       "      <td>5</td>\n",
       "      <td>콜라겐 링클 아이크림40mlx4 (총4개)/주름개선 기능성</td>\n",
       "    </tr>\n",
       "    <tr>\n",
       "      <th>5</th>\n",
       "      <td>6</td>\n",
       "      <td>Dole 얼려먹는 주스 후룻팝 3박스 24개입 (오렌지, 피치, 파인애플 등) + 사은품</td>\n",
       "    </tr>\n",
       "    <tr>\n",
       "      <th>6</th>\n",
       "      <td>7</td>\n",
       "      <td>[헬로네이처 특가] 고기와 우거지 듬뿍! 얼큰 칼칼! 고래감자탕 2팩(2.2kg) ...</td>\n",
       "    </tr>\n",
       "    <tr>\n",
       "      <th>7</th>\n",
       "      <td>8</td>\n",
       "      <td>이롬황성주 국산콩두유 190ml*24팩 선물세트 3종(고칼슘/검은콩/검은콩과17곡)...</td>\n",
       "    </tr>\n",
       "    <tr>\n",
       "      <th>8</th>\n",
       "      <td>9</td>\n",
       "      <td>1+1 NEW K2 Safety 2X밴더 쿨토시+블루안트 2X밴더 손목형 쿨토시 외...</td>\n",
       "    </tr>\n",
       "    <tr>\n",
       "      <th>9</th>\n",
       "      <td>10</td>\n",
       "      <td>불리지 않고 바로 먹는 납작당면 5팩 / 감자면 넓적당면 훠궈면 떡볶이 찜닭 추가사리</td>\n",
       "    </tr>\n",
       "    <tr>\n",
       "      <th>10</th>\n",
       "      <td>11</td>\n",
       "      <td>국산재료, 국내생산! 시원한 여름마스크 KF-AD / 컬러마스크 각 50매 7종</td>\n",
       "    </tr>\n",
       "    <tr>\n",
       "      <th>11</th>\n",
       "      <td>12</td>\n",
       "      <td>[생활공작소] 뽑아쓰는 키친타올 &amp; 팝업티슈</td>\n",
       "    </tr>\n",
       "    <tr>\n",
       "      <th>12</th>\n",
       "      <td>13</td>\n",
       "      <td>[무배] 스파클생수 2L 24병 / 500ml 60병</td>\n",
       "    </tr>\n",
       "    <tr>\n",
       "      <th>13</th>\n",
       "      <td>14</td>\n",
       "      <td>해남 땅끝햇살 수 10kg (2020년 수확, 등급-상)</td>\n",
       "    </tr>\n",
       "    <tr>\n",
       "      <th>14</th>\n",
       "      <td>15</td>\n",
       "      <td>까사니 프리미엄 조리도구 모음전 키친툴/양면도마/가위 외</td>\n",
       "    </tr>\n",
       "    <tr>\n",
       "      <th>15</th>\n",
       "      <td>16</td>\n",
       "      <td>벡셀알카라인 벌크형 건전지 AA AAA 20알</td>\n",
       "    </tr>\n",
       "    <tr>\n",
       "      <th>16</th>\n",
       "      <td>17</td>\n",
       "      <td>[LIVE] 래핑카우 벨큐브 144큐브 (플레인48큐브+체다48큐브+신규맛48큐브증정)</td>\n",
       "    </tr>\n",
       "    <tr>\n",
       "      <th>17</th>\n",
       "      <td>18</td>\n",
       "      <td>100% 국산 더 건강한 잡곡 모음전</td>\n",
       "    </tr>\n",
       "    <tr>\n",
       "      <th>18</th>\n",
       "      <td>19</td>\n",
       "      <td>[조여정콜라겐]초저분자 라이필 콜라겐(1병+2주파우치2개 총 8주분)</td>\n",
       "    </tr>\n",
       "    <tr>\n",
       "      <th>19</th>\n",
       "      <td>20</td>\n",
       "      <td>천하일미 홍석천 이원일 떡갈비 4팩~20팩 총8장~40장 전통/매콤 혼합구성</td>\n",
       "    </tr>\n",
       "  </tbody>\n",
       "</table>\n",
       "</div>"
      ],
      "text/plain": [
       "   Rank                                     KaKao shopping\n",
       "0     1   [단독특가]36년전통장충동왕족발 편육200g+찰순대500g 외 2종(고기듬뿍 고기순대)\n",
       "1     2            BBQ자메이카 통다리 170gx10팩+닭 가슴살 소세지 2팩 랜덤 증정\n",
       "2     3  [압도적 가격]국내생산 생리대의 자존심 보람C&H 순면이좋은날 3팩, 소프트앤퀵 4...\n",
       "3     4  강경 서해젓갈 선동 저염 무색 명란젓 파지 1kg 외10가지 젓갈모음 200년 전통...\n",
       "4     5                   콜라겐 링클 아이크림40mlx4 (총4개)/주름개선 기능성\n",
       "5     6  Dole 얼려먹는 주스 후룻팝 3박스 24개입 (오렌지, 피치, 파인애플 등) + 사은품\n",
       "6     7  [헬로네이처 특가] 고기와 우거지 듬뿍! 얼큰 칼칼! 고래감자탕 2팩(2.2kg) ...\n",
       "7     8  이롬황성주 국산콩두유 190ml*24팩 선물세트 3종(고칼슘/검은콩/검은콩과17곡)...\n",
       "8     9  1+1 NEW K2 Safety 2X밴더 쿨토시+블루안트 2X밴더 손목형 쿨토시 외...\n",
       "9    10    불리지 않고 바로 먹는 납작당면 5팩 / 감자면 넓적당면 훠궈면 떡볶이 찜닭 추가사리\n",
       "10   11       국산재료, 국내생산! 시원한 여름마스크 KF-AD / 컬러마스크 각 50매 7종\n",
       "11   12                           [생활공작소] 뽑아쓰는 키친타올 & 팝업티슈\n",
       "12   13                      [무배] 스파클생수 2L 24병 / 500ml 60병\n",
       "13   14                    해남 땅끝햇살 수 10kg (2020년 수확, 등급-상)\n",
       "14   15                    까사니 프리미엄 조리도구 모음전 키친툴/양면도마/가위 외\n",
       "15   16                          벡셀알카라인 벌크형 건전지 AA AAA 20알\n",
       "16   17   [LIVE] 래핑카우 벨큐브 144큐브 (플레인48큐브+체다48큐브+신규맛48큐브증정)\n",
       "17   18                               100% 국산 더 건강한 잡곡 모음전\n",
       "18   19             [조여정콜라겐]초저분자 라이필 콜라겐(1병+2주파우치2개 총 8주분)\n",
       "19   20         천하일미 홍석천 이원일 떡갈비 4팩~20팩 총8장~40장 전통/매콤 혼합구성"
      ]
     },
     "execution_count": 14,
     "metadata": {},
     "output_type": "execute_result"
    }
   ],
   "source": [
    "pd_data = pd.DataFrame(shop, columns=['Rank','KaKao shopping'])\n",
    "pd_data"
   ]
  },
  {
   "cell_type": "code",
   "execution_count": null,
   "id": "0126c97e",
   "metadata": {},
   "outputs": [],
   "source": []
  }
 ],
 "metadata": {
  "kernelspec": {
   "display_name": "Python 3",
   "language": "python",
   "name": "python3"
  },
  "language_info": {
   "codemirror_mode": {
    "name": "ipython",
    "version": 3
   },
   "file_extension": ".py",
   "mimetype": "text/x-python",
   "name": "python",
   "nbconvert_exporter": "python",
   "pygments_lexer": "ipython3",
   "version": "3.6.4"
  }
 },
 "nbformat": 4,
 "nbformat_minor": 5
}
