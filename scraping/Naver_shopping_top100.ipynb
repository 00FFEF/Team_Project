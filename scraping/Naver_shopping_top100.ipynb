{
 "cells": [
  {
   "cell_type": "markdown",
   "id": "cf1d8427",
   "metadata": {},
   "source": [
    "### browser.get 에 있는 주소만 카테고리별로 ( 패션의류, 패션잡화, 화장품/미용.....) 으로 바꾸면 다른거 추출가능"
   ]
  },
  {
   "cell_type": "code",
   "execution_count": 1,
   "id": "168c9ce4",
   "metadata": {},
   "outputs": [],
   "source": [
    "from selenium import webdriver"
   ]
  },
  {
   "cell_type": "code",
   "execution_count": 2,
   "id": "e317ab64",
   "metadata": {},
   "outputs": [],
   "source": [
    "#!python -m pip install pandas"
   ]
  },
  {
   "cell_type": "code",
   "execution_count": 3,
   "id": "98b3dad8",
   "metadata": {},
   "outputs": [],
   "source": [
    "#!python -m pip install selenium"
   ]
  },
  {
   "cell_type": "code",
   "execution_count": 4,
   "id": "9a683de0",
   "metadata": {},
   "outputs": [],
   "source": [
    "# auto reload\n",
    "#%load_ext autoreload\n",
    "#%autoreload 2"
   ]
  },
  {
   "cell_type": "code",
   "execution_count": 5,
   "id": "6d398283",
   "metadata": {},
   "outputs": [
    {
     "name": "stdout",
     "output_type": "stream",
     "text": [
      " C 드라이브의 볼륨에는 이름이 없습니다.\n",
      " 볼륨 일련 번호: 7651-27D3\n",
      "\n",
      " C:\\Develops\\Team_Project\\scraping 디렉터리\n",
      "\n",
      "2021-07-19  오후 02:14        11,107,328 chromedriver.exe\n",
      "               1개 파일          11,107,328 바이트\n",
      "               0개 디렉터리  372,388,380,672 바이트 남음\n"
     ]
    }
   ],
   "source": [
    "!dir .\\chromedriver.exe"
   ]
  },
  {
   "cell_type": "code",
   "execution_count": 6,
   "id": "c4d823c1",
   "metadata": {},
   "outputs": [],
   "source": [
    "browser = webdriver.Chrome('./chromedriver.exe')"
   ]
  },
  {
   "cell_type": "code",
   "execution_count": 7,
   "id": "2a3666bf",
   "metadata": {},
   "outputs": [],
   "source": [
    "browser.get('https://search.shopping.naver.com/best100v2/detail.nhn?catId=50000000')"
   ]
  },
  {
   "cell_type": "code",
   "execution_count": 8,
   "id": "a6ced878",
   "metadata": {},
   "outputs": [],
   "source": [
    "html = browser.page_source\n",
    "#html"
   ]
  },
  {
   "cell_type": "code",
   "execution_count": 9,
   "id": "9e997895",
   "metadata": {},
   "outputs": [],
   "source": [
    "from bs4 import BeautifulSoup"
   ]
  },
  {
   "cell_type": "code",
   "execution_count": 10,
   "id": "694cf1f1",
   "metadata": {},
   "outputs": [],
   "source": [
    "soup = BeautifulSoup(html,'html.parser')"
   ]
  },
  {
   "cell_type": "code",
   "execution_count": 11,
   "id": "fd41d604",
   "metadata": {},
   "outputs": [],
   "source": [
    "contents = soup.select('li._itemSection')\n",
    "#print(type(contents))\n",
    "#contents[0]"
   ]
  },
  {
   "cell_type": "code",
   "execution_count": 12,
   "id": "c7b5399a",
   "metadata": {},
   "outputs": [],
   "source": [
    "content = contents[0]\n",
    "#content"
   ]
  },
  {
   "cell_type": "code",
   "execution_count": 13,
   "id": "efff7a81",
   "metadata": {},
   "outputs": [
    {
     "data": {
      "text/plain": [
       "<em class=\"num1\">1</em>"
      ]
     },
     "execution_count": 13,
     "metadata": {},
     "output_type": "execute_result"
    }
   ],
   "source": [
    "rank = content.select('div.best_rnk > em')[0]\n",
    "rank"
   ]
  },
  {
   "cell_type": "code",
   "execution_count": 14,
   "id": "464d0345",
   "metadata": {},
   "outputs": [
    {
     "data": {
      "text/plain": [
       "'1'"
      ]
     },
     "execution_count": 14,
     "metadata": {},
     "output_type": "execute_result"
    }
   ],
   "source": [
    "rank.text.strip()"
   ]
  },
  {
   "cell_type": "code",
   "execution_count": 15,
   "id": "2d1b4b2d",
   "metadata": {},
   "outputs": [
    {
     "data": {
      "text/plain": [
       "<p class=\"cont\">\n",
       "<a href=\"https://cr2.shopping.naver.com/adcr.nhn?x=XO%2FB2GNfscqIjgdwxXa8Vf%2F%2F%2Fw%3D%3Ds5i8tEyMhECnhn6vzDUKNyeK9936ax6ptMRasMnzUWKwoRoiq7koQvteMZ6lOJdrloxmSNo45g3ZGwEveCnxZxrt4UJZewFzJHuNwkB52%2B1aj%2F8g%2FhYBLh9BltcLLn1%2B64ZJ1yhgbIwyc0Vzw8hlsYMt31Fyt68lal37inYyponkqjgjWudOcde%2FjNwY9lsSnjtuQL6DwLLJ3GbI%2FUSuyoXZzPGwU8mWtCvXG1TjQaNakJ%2FyEPwJSZMhHhJcixDaA3Tg2Ry0vHLJhIAih9EB8%2BoLIaHrl4IE1YXfYsjwXrI7DY271zd1sYmrtIel2dncsjvvCkGcmSbUp1pZfxtP8EoVnV7%2FL6SNdXRQIdl%2B0jNWkPsf2OZDKBFGNSlFtkB6G0qv9UU0KjbR0Nfdqo59K6q%2BUh2XAwAeHh%2FQfRSlZODoZaO1NXbgkpTBydkG%2FwTW6N43qKuUkQYLFW8vlBWMz9loSu1BvoQ%2F902MFKRX5ix4HUk%2B%2BGfWShZc%2BXmPKPshEbqnJrWqgDdZS6D19AkZI1907i%2BOcL1Dek%2BjWg8jSOpotgvqqFNc7Minm%2BF61zxc9aKsPi2r2zYzur2auiq7OZ2%2Btqfr7pMZvQpe%2BKZTZo3XFIF3kCfc315H2MaHQM7Aw4mwRSqiy0jMMT2BBQx0cYw%3D%3D\" target=\"_blank\" title=\"나이키 드라이핏 스우시 반팔티 2컬러 32291 BV6708\">나이키 드라이핏 스우시 반팔티 2컬러 3229...</a><!--N=a:cpl*C.title,i:26703211245,r:1-->\n",
       "</p>"
      ]
     },
     "execution_count": 15,
     "metadata": {},
     "output_type": "execute_result"
    }
   ],
   "source": [
    "title = content.select('p.cont')[0]\n",
    "title"
   ]
  },
  {
   "cell_type": "code",
   "execution_count": 16,
   "id": "f1eb8214",
   "metadata": {},
   "outputs": [
    {
     "data": {
      "text/plain": [
       "'나이키 드라이핏 스우시 반팔티 2컬러 3229...'"
      ]
     },
     "execution_count": 16,
     "metadata": {},
     "output_type": "execute_result"
    }
   ],
   "source": [
    "title.text.strip()"
   ]
  },
  {
   "cell_type": "code",
   "execution_count": 17,
   "id": "9903601b",
   "metadata": {},
   "outputs": [],
   "source": [
    "shop = [] # or list()\n",
    "for content in contents:\n",
    "    #rank = content.select('div.best_rnk > em')[0]\n",
    "    #print(rank.text.strip(),title.text.strip())\n",
    "    #shop.append([rank.text.strip(),title.text.strip()])\n",
    "    title = content.select('p.cont')[0]\n",
    "    #print(title.text.strip())\n",
    "    shop.append([title.text.strip()])"
   ]
  },
  {
   "cell_type": "code",
   "execution_count": 18,
   "id": "92789e5e",
   "metadata": {},
   "outputs": [],
   "source": [
    "#shop"
   ]
  },
  {
   "cell_type": "code",
   "execution_count": 19,
   "id": "2849e8b3",
   "metadata": {},
   "outputs": [],
   "source": [
    "import pandas as pd"
   ]
  },
  {
   "cell_type": "code",
   "execution_count": 20,
   "id": "9b17017f",
   "metadata": {},
   "outputs": [
    {
     "data": {
      "text/html": [
       "<div>\n",
       "<style scoped>\n",
       "    .dataframe tbody tr th:only-of-type {\n",
       "        vertical-align: middle;\n",
       "    }\n",
       "\n",
       "    .dataframe tbody tr th {\n",
       "        vertical-align: top;\n",
       "    }\n",
       "\n",
       "    .dataframe thead th {\n",
       "        text-align: right;\n",
       "    }\n",
       "</style>\n",
       "<table border=\"1\" class=\"dataframe\">\n",
       "  <thead>\n",
       "    <tr style=\"text-align: right;\">\n",
       "      <th></th>\n",
       "      <th>Naver shopping</th>\n",
       "    </tr>\n",
       "  </thead>\n",
       "  <tbody>\n",
       "    <tr>\n",
       "      <th>0</th>\n",
       "      <td>나이키 드라이핏 스우시 반팔티 2컬러 3229...</td>\n",
       "    </tr>\n",
       "    <tr>\n",
       "      <th>1</th>\n",
       "      <td>써스데이아일랜드 20 쿨피크닉 슬림핏 롱 원...</td>\n",
       "    </tr>\n",
       "    <tr>\n",
       "      <th>2</th>\n",
       "      <td>아디다스 남성 아이스 쿨 패키지 드로즈 9종...</td>\n",
       "    </tr>\n",
       "    <tr>\n",
       "      <th>3</th>\n",
       "      <td>캘빈클라인언더웨어 CK 언더웨어 모던코튼 ...</td>\n",
       "    </tr>\n",
       "    <tr>\n",
       "      <th>4</th>\n",
       "      <td>지오다노 여 버뮤다 쇼츠 400501</td>\n",
       "    </tr>\n",
       "    <tr>\n",
       "      <th>...</th>\n",
       "      <td>...</td>\n",
       "    </tr>\n",
       "    <tr>\n",
       "      <th>95</th>\n",
       "      <td>컨셉원 남성 TR 쿨맥스 히든밴딩 슬림 슬랙...</td>\n",
       "    </tr>\n",
       "    <tr>\n",
       "      <th>96</th>\n",
       "      <td>지오다노 남 여름 스판 치노팬츠 펜슬핏 면...</td>\n",
       "    </tr>\n",
       "    <tr>\n",
       "      <th>97</th>\n",
       "      <td>비너스 솔브 노와이어브라 심리스 깔끔몰드...</td>\n",
       "    </tr>\n",
       "    <tr>\n",
       "      <th>98</th>\n",
       "      <td>루앤 심리스 브라 노와이어 무봉제 수면 브...</td>\n",
       "    </tr>\n",
       "    <tr>\n",
       "      <th>99</th>\n",
       "      <td>캘빈클라인언더웨어 언더웨어 CK 모던코튼 ...</td>\n",
       "    </tr>\n",
       "  </tbody>\n",
       "</table>\n",
       "<p>100 rows × 1 columns</p>\n",
       "</div>"
      ],
      "text/plain": [
       "                  Naver shopping\n",
       "0   나이키 드라이핏 스우시 반팔티 2컬러 3229...\n",
       "1    써스데이아일랜드 20 쿨피크닉 슬림핏 롱 원...\n",
       "2    아디다스 남성 아이스 쿨 패키지 드로즈 9종...\n",
       "3     캘빈클라인언더웨어 CK 언더웨어 모던코튼 ...\n",
       "4           지오다노 여 버뮤다 쇼츠 400501\n",
       "..                           ...\n",
       "95   컨셉원 남성 TR 쿨맥스 히든밴딩 슬림 슬랙...\n",
       "96    지오다노 남 여름 스판 치노팬츠 펜슬핏 면...\n",
       "97     비너스 솔브 노와이어브라 심리스 깔끔몰드...\n",
       "98    루앤 심리스 브라 노와이어 무봉제 수면 브...\n",
       "99    캘빈클라인언더웨어 언더웨어 CK 모던코튼 ...\n",
       "\n",
       "[100 rows x 1 columns]"
      ]
     },
     "execution_count": 20,
     "metadata": {},
     "output_type": "execute_result"
    }
   ],
   "source": [
    "pd_data = pd.DataFrame(shop, columns=['Naver shopping'])\n",
    "pd_data"
   ]
  },
  {
   "cell_type": "code",
   "execution_count": 21,
   "id": "ae3f0fc7",
   "metadata": {},
   "outputs": [],
   "source": [
    "# pd_data.to_excel('./saves/naver_shopping_top100_scraping.xls')\n",
    "# 저장"
   ]
  }
 ],
 "metadata": {
  "kernelspec": {
   "display_name": "Python 3",
   "language": "python",
   "name": "python3"
  },
  "language_info": {
   "codemirror_mode": {
    "name": "ipython",
    "version": 3
   },
   "file_extension": ".py",
   "mimetype": "text/x-python",
   "name": "python",
   "nbconvert_exporter": "python",
   "pygments_lexer": "ipython3",
   "version": "3.6.4"
  }
 },
 "nbformat": 4,
 "nbformat_minor": 5
}
