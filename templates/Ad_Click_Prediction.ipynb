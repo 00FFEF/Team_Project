{
 "cells": [
  {
   "cell_type": "code",
   "execution_count": 1,
   "id": "bf10dc17",
   "metadata": {},
   "outputs": [],
   "source": [
    "import pandas as pd"
   ]
  },
  {
   "cell_type": "code",
   "execution_count": 8,
   "id": "9107524f",
   "metadata": {},
   "outputs": [],
   "source": [
    "df = pd.read_csv('../files/Social_Network_Ads.csv')"
   ]
  },
  {
   "cell_type": "code",
   "execution_count": 9,
   "id": "32ed8c9c",
   "metadata": {},
   "outputs": [],
   "source": [
    "df = df.iloc[0:,1:]"
   ]
  },
  {
   "cell_type": "code",
   "execution_count": 10,
   "id": "b5fd249e",
   "metadata": {},
   "outputs": [],
   "source": [
    "import matplotlib.pyplot as plt"
   ]
  },
  {
   "cell_type": "code",
   "execution_count": 11,
   "id": "40a743fd",
   "metadata": {},
   "outputs": [],
   "source": [
    "df_gen = df['Gender']"
   ]
  },
  {
   "cell_type": "code",
   "execution_count": 17,
   "id": "9ef6d256",
   "metadata": {},
   "outputs": [
    {
     "data": {
      "image/png": "[encoded data removed]",
      "text/plain": [
       "<Figure size 432x288 with 1 Axes>"
      ]
     },
     "metadata": {
      "needs_background": "light"
     },
     "output_type": "display_data"
    }
   ],
   "source": [
    "male = []\n",
    "female = []\n",
    "\n",
    "for i in range(len(df_gen)):\n",
    "  g = df_gen[i]\n",
    "  if g == 'Male':\n",
    "    male.append(g)\n",
    "  else :\n",
    "    female.append(g)\n",
    "\n",
    "x = ['Male', 'Female']\n",
    "y = [len(male), len(female)]\n",
    "\n",
    "bar_colors = ['blue', 'red']\n",
    "plt.bar(x, y, width = 0.3, color = bar_colors, edgecolor = 'black')\n",
    "plt.show()"
   ]
  },
  {
   "cell_type": "markdown",
   "id": "fbd04383",
   "metadata": {},
   "source": [
    "# 추가할 것\n",
    "* 막대 간격 좁히기\n",
    "* 숫자 표시"
   ]
  },
  {
   "cell_type": "code",
   "execution_count": 13,
   "id": "6b582ed9",
   "metadata": {},
   "outputs": [],
   "source": [
    "df_age = df['Age']"
   ]
  },
  {
   "cell_type": "code",
   "execution_count": 14,
   "id": "ce55eb92",
   "metadata": {},
   "outputs": [],
   "source": [
    "juv = []\n",
    "tw = []\n",
    "th = []\n",
    "fo = []\n",
    "fi = []\n",
    "ot = []\n",
    "\n",
    "for i in range(len(df_age)):\n",
    "  n = df_age[i]\n",
    "  if n < 20 :\n",
    "    juv.append(n)\n",
    "  elif n < 30 :\n",
    "    tw.append(n)\n",
    "  elif n < 40 :\n",
    "    th.append(n)\n",
    "  elif n < 50 :\n",
    "    fo.append(n)\n",
    "  elif n < 60:\n",
    "    fi.append(n)\n",
    "  else :\n",
    "    ot.append(n)"
   ]
  },
  {
   "cell_type": "code",
   "execution_count": 15,
   "id": "43e68bdc",
   "metadata": {},
   "outputs": [
    {
     "data": {
      "text/plain": [
       "<function matplotlib.pyplot.show(close=None, block=None)>"
      ]
     },
     "execution_count": 15,
     "metadata": {},
     "output_type": "execute_result"
    },
    {
     "data": {
      "image/png": "[encoded data removed]",
      "text/plain": [
       "<Figure size 432x288 with 1 Axes>"
      ]
     },
     "metadata": {},
     "output_type": "display_data"
    }
   ],
   "source": [
    "ratio = [len(juv), len(tw), len(th), len(fo), len(fi), len(ot)]\n",
    "labels = ['teenagers', 'twenties', 'thirties', 'fouries', 'fifties', 'sixties']\n",
    "\n",
    "plt.pie(ratio, labels=labels, autopct='%d')\n",
    "plt.show"
   ]
  },
  {
   "cell_type": "markdown",
   "id": "a52bf9d9",
   "metadata": {},
   "source": [
    "# 추가할 것\n",
    "* 간격 띄우기\n",
    "* 숫자, 글자 크기 키우기\n",
    "* %가 아니라 실제 수량으로 나타내기"
   ]
  },
  {
   "cell_type": "code",
   "execution_count": 16,
   "id": "ecbd06b7",
   "metadata": {},
   "outputs": [
    {
     "data": {
      "text/plain": [
       "Text(0.5, 0, 'EstimatedSalary')"
      ]
     },
     "execution_count": 16,
     "metadata": {},
     "output_type": "execute_result"
    },
    {
     "data": {
      "image/png": "[encoded data removed]",
      "text/plain": [
       "<Figure size 432x288 with 1 Axes>"
      ]
     },
     "metadata": {
      "needs_background": "light"
     },
     "output_type": "display_data"
    }
   ],
   "source": [
    "df_sal = df['EstimatedSalary']\n",
    "\n",
    "plt.hist(df_sal, color = 'lightgreen')\n",
    "plt.xlabel('EstimatedSalary')"
   ]
  },
  {
   "cell_type": "markdown",
   "id": "d71dfc28",
   "metadata": {},
   "source": [
    "# 추가할 것\n",
    "* 분포 그래프로 바꾸거나 추가하기"
   ]
  },
  {
   "cell_type": "markdown",
   "id": "69982393",
   "metadata": {},
   "source": [
    "train, test data 분류하고 Purchased 예상과 Score 뽑아내기"
   ]
  },
  {
   "cell_type": "code",
   "execution_count": null,
   "id": "270bc9bd",
   "metadata": {},
   "outputs": [],
   "source": []
  }
 ],
 "metadata": {
  "kernelspec": {
   "display_name": "Python 3",
   "language": "python",
   "name": "python3"
  },
  "language_info": {
   "codemirror_mode": {
    "name": "ipython",
    "version": 3
   },
   "file_extension": ".py",
   "mimetype": "text/x-python",
   "name": "python",
   "nbconvert_exporter": "python",
   "pygments_lexer": "ipython3",
   "version": "3.6.4"
  }
 },
 "nbformat": 4,
 "nbformat_minor": 5
}
